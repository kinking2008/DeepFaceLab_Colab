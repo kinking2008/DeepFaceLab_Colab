{
  "nbformat": 4,
  "nbformat_minor": 0,
  "metadata": {
    "colab": {
      "name": "“DeepFaceLab_LianDan3.ipynb",
      "provenance": [],
      "collapsed_sections": [],
      "toc_visible": true,
      "include_colab_link": true
    },
    "kernelspec": {
      "name": "python3",
      "display_name": "Python 3"
    },
    "accelerator": "GPU"
  },
  "cells": [
    {
      "cell_type": "markdown",
      "metadata": {
        "id": "view31n-github",
        "colab_type": "text"
      },
      "source": [
        "<a href=\"https://colab.research.google.com/github/kinking2008/DeepFaceLab_Colab/blob/master/DeepFaceLab_LianDan3.ipynb\" target=\"_parent\"><img src=\"https://colab.research.google.com/assets/colab-badge.svg\" alt=\"Open In Colab\"/></a>"
      ]
    },
    {
      "cell_type": "markdown",
      "metadata": {
        "id": "5H832sIW1PI3",
        "colab_type": "text"
      },
      "source": [
        "# 练丹\n",
        "\n"
      ]
    },
    {
      "cell_type": "code",
      "metadata": {
        "id": "AmG33WZef1XI",
        "colab_type": "code",
        "colab": {}
      },
      "source": [
        "# 查看设备，是K80还是T4,如果是K80...！\n",
        "! /opt/bin/nvidia-smi"
      ],
      "execution_count": 0,
      "outputs": []
    },
    {
      "cell_type": "code",
      "metadata": {
        "colab_type": "code",
        "id": "UY-a5UP34f38",
        "cellView": "form",
        "colab": {}
      },
      "source": [
        "#@title 一键运行练丹\n",
        "#挂载谷歌云盘\n",
        "#点击链接授权，复制授权码，填入框框，然后回车。\n",
        "\n",
        "Model = \"DF\" #@param [\"SAEHD\", \"SAE\", \"H128\", \"H256\", \"LIAEF128\", \"DF\", \"DF256\", \"AVATAR\" , \"Quick96\"]\n",
        "\n",
        "\n",
        "from google.colab import drive\n",
        "drive.mount('/content/drive', force_remount=True)\n",
        "\n",
        "# 进入DeepFaceLab_Colab目录\n",
        "%cd /content/drive/My Drive/DeepFaceLab/DeepFaceLab_Colab\n",
        "\n",
        "# 安装Python依赖\n",
        "!pip install -r requirements-colab.txt\n",
        "!pip install --upgrade scikit-image\n",
        "!sudo apt-get install cuda-10-0\n",
        "#Src头像缓存，提高图片载入速度，请把aligned.zip放在对应的目录下\n",
        "%cd /content/drive/My Drive/DeepFaceLab/workspace/data_src\n",
        "!unzip -o -q aligned.zip\n",
        "print('Src头像解压已完成')\n",
        "%cd /content/drive/My Drive/DeepFaceLab/DeepFaceLab_Colab\n",
        "\n",
        "# 开始训练SAE ，如果是其他模型，修改后面的参数即可，比如H128。\n",
        "cmd =\"main.py train --training-data-src-dir ../workspace/data_src/aligned --training-data-dst-dir ../workspace/data_src/aligned --model-dir ../workspace/model --model \" + Model +\" --no-preview\"\n",
        "!python $cmd \n"
      ],
      "execution_count": 0,
      "outputs": []
    },
    {
      "cell_type": "code",
      "metadata": {
        "id": "D7toZx354J9W",
        "colab_type": "code",
        "cellView": "both",
        "colab": {}
      },
      "source": [
        "#挂载谷歌云盘\n",
        "#点击链接授权，复制授权码，填入框框，然后回车。\n",
        "\n",
        "from google.colab import drive\n",
        "\n",
        "drive.mount('/content/drive', force_remount=True)"
      ],
      "execution_count": 0,
      "outputs": []
    },
    {
      "cell_type": "code",
      "metadata": {
        "id": "yd11Uh36vUfP",
        "colab_type": "code",
        "cellView": "both",
        "colab": {}
      },
      "source": [
        "# 安装Python依赖\n",
        "%cd /content/drive/My Drive/DeepFaceLab/DeepFaceLab_Colab\n",
        "!pip install -r requirements-colab.txt\n",
        "!pip install --upgrade scikit-image\n",
        "!sudo apt-get install cuda-10-0"
      ],
      "execution_count": 0,
      "outputs": []
    },
    {
      "cell_type": "code",
      "metadata": {
        "colab_type": "code",
        "id": "37Jz9LDb2JYO",
        "colab": {}
      },
      "source": [
        "#Src头像缓存，提高图片载入速度，请把aligned.zip放在对应的目录下\n",
        "%cd /content/drive/My Drive/DeepFaceLab/workspace/data_src\n",
        "!unzip -o -q aligned.zip\n",
        "print(\"src解压已完成\")"
      ],
      "execution_count": 0,
      "outputs": []
    },
    {
      "cell_type": "code",
      "metadata": {
        "colab_type": "code",
        "id": "38Xas6lX2JYP",
        "colab": {}
      },
      "source": [
        "#dst头像缓存，提高图片载入速度，请把aligned.zip放在对应的目录下\n",
        "%cd /content/drive/My Drive/DeepFaceLab/workspace/data_dst\n",
        "!unzip -o -q aligned.zip\n",
        "print(\"dst解压已完成\")"
      ],
      "execution_count": 0,
      "outputs": []
    },
    {
      "cell_type": "code",
      "metadata": {
        "id": "393ZpkQd-dZj",
        "colab_type": "code",
        "colab": {}
      },
      "source": [
        "# 确保路径正确，进入DeepFaceLab_Colab\n",
        "\n",
        "%cd /content/drive/My Drive/DeepFaceLab/DeepFaceLab_Colab"
      ],
      "execution_count": 0,
      "outputs": []
    },
    {
      "cell_type": "code",
      "metadata": {
        "colab_type": "code",
        "cellView": "form",
        "id": "40D8n_mBY5fl",
        "colab": {}
      },
      "source": [
        "#@title 练丹  全模式\n",
        "Model = \"DF\" #@param [\"SAEHD\", \"SAE\", \"H128\", \"H256\", \"LIAEF128\", \"DF\", \"DF256\", \"AVATAR\" , \"Quick96\"]\n",
        "cmd =\"main.py train --training-data-src-dir ../workspace/data_src/aligned --training-data-dst-dir ../workspace/data_src/aligned --model-dir ../workspace/model --model \" + Model +\" --no-preview\"\n",
        "!python $cmd "
      ],
      "execution_count": 0,
      "outputs": []
    },
    {
      "cell_type": "code",
      "metadata": {
        "id": "41aUSMa80-_M",
        "colab_type": "code",
        "cellView": "both",
        "colab": {}
      },
      "source": [
        "#用src中的脸替换dst的脸 ,后面模型代码根据自己训练的手动更改\n",
        "!python main.py convert --input-dir ../workspace/data_dst --output-dir ../workspace/data_dst/merged --aligned-dir ../workspace/data_dst/aligned --model-dir ../workspace/model --model SAE"
      ],
      "execution_count": 0,
      "outputs": []
    },
    {
      "cell_type": "code",
      "metadata": {
        "id": "42mb8EIc1Csf",
        "colab_type": "code",
        "cellView": "both",
        "colab": {}
      },
      "source": [
        "#把替换好的图片转换成视频\n",
        "\n",
        "!python main.py videoed video-from-sequence --input-dir ../workspace/data_dst/merged --output-file ../workspace/result.mp4 --reference-file ../workspace/data_dst.mp4"
      ],
      "execution_count": 0,
      "outputs": []
    },
    {
      "cell_type": "code",
      "metadata": {
        "id": "43331nmUmUuZ",
        "colab_type": "code",
        "cellView": "both",
        "colab": {}
      },
      "source": [
        "#@title\n",
        "# 训练效果预览，先把训练暂停，然后允许这一段代码。\n",
        "# 如果不想暂停训练，你可以点击这个链接。 https://github.com/dream80/DeepFaceLab_Colab/blob/master/ViewLastHistory_H128.ipynb\n",
        "# 在新的页面上查看。\n",
        "\n",
        "import matplotlib.pyplot as plt\n",
        "import tensorflow as tf\n",
        "import numpy as np\n",
        "import os\n",
        "from google.colab import files\n",
        " \n",
        "print(tf.__version__)\n",
        "\n",
        "imgpath=\"/content/drive/My Drive/DeepFaceLab/workspace/model/H128_history/\"\n",
        "tlist=os.listdir(imgpath)\n",
        "tlist.sort(key=lambda x:int(x[:-5]))\n",
        "lastpic=tlist[-1]\n",
        "\n",
        "image_raw = tf.gfile.GFile(imgpath+lastpic,'rb').read()   #bytes\n",
        "img = tf.image.decode_jpeg(image_raw)  #Tensor\n",
        "\n",
        "plt.rcParams['figure.figsize'] = (8, 4.0)\n",
        "plt.rcParams['image.interpolation'] = 'nearest'\n",
        "plt.rcParams['image.cmap'] = 'gray' \n",
        "plt.rcParams['savefig.dpi'] =200 \n",
        "plt.rcParams['figure.dpi'] = 200\n",
        "\n",
        "\n",
        "\n",
        "with tf.Session() as sess:\n",
        "    plt.imshow(img.eval())\n",
        " "
      ],
      "execution_count": 0,
      "outputs": []
    },
    {
      "cell_type": "markdown",
      "metadata": {
        "id": "siaPGJ1QVacj",
        "colab_type": "text"
      },
      "source": [
        "# 工具\n"
      ]
    },
    {
      "cell_type": "markdown",
      "metadata": {
        "id": "44LTllAHYAPJ",
        "colab_type": "text"
      },
      "source": [
        "使用脚本练模型的时候常常会需要上传，解压，压缩，下载等，下面为大家提供一个解压和压缩的脚本。如果需要对其他文件操作，改一下路径，改一下文件名就可以了。"
      ]
    },
    {
      "cell_type": "code",
      "metadata": {
        "colab_type": "code",
        "id": "45E2LEwibb4V",
        "colab": {}
      },
      "source": [
        "#Src头像缓存，提高图片载入速度，请把aligned.zip放在对应的目录下\n",
        "%cd /content/drive/My Drive/DeepFaceLab/workspace/data_src\n",
        "!unzip -o -q aligned.zip\n",
        "print(\"src解压已完成\")"
      ],
      "execution_count": 0,
      "outputs": []
    },
    {
      "cell_type": "code",
      "metadata": {
        "id": "46jduhJMWXia",
        "colab_type": "code",
        "colab": {}
      },
      "source": [
        "# 压缩头像包 ，把压缩包保存在data_src或data_dst目录下,src或dst下面代码自己手动改\n",
        "%cd /content/drive/My Drive/DeepFaceLab/workspace/data_src\n",
        "!zip -r aligned.zip  aligned\n",
        "print(\"src压缩已完成\")"
      ],
      "execution_count": 0,
      "outputs": []
    }
  ]
}
